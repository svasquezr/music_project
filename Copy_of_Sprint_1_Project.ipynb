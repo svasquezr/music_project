{
  "cells": [
    {
      "cell_type": "markdown",
      "metadata": {
        "id": "E0vqbgi9ay0H"
      },
      "source": [
        "# Yandex.Music"
      ]
    },
    {
      "cell_type": "markdown",
      "metadata": {
        "id": "fhq_eyov_Zcs"
      },
      "source": [
        "# Contents <a id='back'></a>\n",
        "\n",
        "* [Introducción](#intro)\n",
        "* [Etapa 1. Descripción de los datos](#data_review)\n",
        "    * [Conclusions](#data_review_conclusions)\n",
        "* [Etapa 2. Data preprocessing](#data_preprocessing)\n",
        "    * [2.1 Estilo del encabezado](#header_style)\n",
        "    * [2.2 Valores ausentes](#missing_values)\n",
        "    * [2.3 Duplicados](#duplicates)\n",
        "    * [2.4 Conclusiones](#data_preprocessing_conclusions)\n",
        "* [Etapa 3. Prueba de hipótesis](#hypotheses)\n",
        "    * [3.1 Hipótesis 1: comparar el comportamiento del usuario en las dos ciudades](#activity)\n",
        "    * [3.2 Hipótesis 2: música al principio y al final de la semana](#week)\n",
        "    * [3.3 Hipótesis 3: preferencias de género en Springfield y Shelbyville](#genre)\n",
        "* [Conclusiones](#end)"
      ]
    },
    {
      "cell_type": "markdown",
      "metadata": {
        "id": "VUC88oWjTJw2"
      },
      "source": [
        "## Introducción <a id='intro'></a>\n",
        "En este proyecto, compararás las preferencias musicales de las ciudades de Springfield y Shelbyville. Estudiarás datos reales de Yandex.Music para probar las hipótesis de abajo y comparar el comportamiento del usuario de esas dos ciudades.\n",
        "\n",
        "### Objetivo: \n",
        "Prueba tres hipótesis: \n",
        "1. La actividad de los usuarios difiere según el día de la semana y dependiendo de la ciudad. \n",
        "2. Los lunes por la mañana, los habitantes de Springfield y Shelbyville escuchan diferentes géneros. Lo mismo ocurre con los viernes por la noche. \n",
        "3. Los oyentes de Springfield y Shelbyville tienen preferencias distintas. En Springfield prefieren el pop mientras que en Shelbyville hay más aficionados al rap.\n",
        "\n",
        "### Etapas \n",
        "Los datos del comportamiento del usuario se almacenan en el archivo `/datasets/music_project_en.csv`. No hay ninguna información sobre la calidad de los datos así que necesitarás examinarlos antes de probar las hipótesis. \n",
        "\n",
        "Primero, evaluarás la calidad de los datos y verás si los problemas son significativos. Entonces, durante el preprocesamiento de datos, tomarás en cuenta los problemas más críticos.\n",
        " \n",
        "Tu proyecto consistirá en tres etapas:\n",
        " 1. Descripción de los datos\n",
        " 2. Preprocesamiento de datos\n",
        " 3. Prueba de hipótesis\n",
        " \n",
        "[Volver a Contenidos](#back)"
      ]
    },
    {
      "cell_type": "markdown",
      "metadata": {
        "id": "Ml1hmfXC_Zcs"
      },
      "source": [
        "## Etapa 1. Descripción de los datos <a id='data_review'></a>"
      ]
    },
    {
      "cell_type": "code",
      "execution_count": null,
      "metadata": {
        "id": "AXN7PHPN_Zcs"
      },
      "outputs": [],
      "source": [
        "# importando pandas\n",
        "import pandas as pd"
      ]
    },
    {
      "cell_type": "code",
      "execution_count": null,
      "metadata": {
        "id": "fFVu7vqh_Zct",
        "outputId": "f9ecb57c-7b9b-4a85-ed3d-3a2bdf88f6e4"
      },
      "outputs": [
        {
          "data": {
            "text/html": [
              "<div>\n",
              "<style scoped>\n",
              "    .dataframe tbody tr th:only-of-type {\n",
              "        vertical-align: middle;\n",
              "    }\n",
              "\n",
              "    .dataframe tbody tr th {\n",
              "        vertical-align: top;\n",
              "    }\n",
              "\n",
              "    .dataframe thead th {\n",
              "        text-align: right;\n",
              "    }\n",
              "</style>\n",
              "<table border=\"1\" class=\"dataframe\">\n",
              "  <thead>\n",
              "    <tr style=\"text-align: right;\">\n",
              "      <th></th>\n",
              "      <th>userID</th>\n",
              "      <th>Track</th>\n",
              "      <th>artist</th>\n",
              "      <th>genre</th>\n",
              "      <th>City</th>\n",
              "      <th>time</th>\n",
              "      <th>Day</th>\n",
              "    </tr>\n",
              "  </thead>\n",
              "  <tbody>\n",
              "    <tr>\n",
              "      <th>count</th>\n",
              "      <td>65079</td>\n",
              "      <td>63736</td>\n",
              "      <td>57512</td>\n",
              "      <td>63881</td>\n",
              "      <td>65079</td>\n",
              "      <td>65079</td>\n",
              "      <td>65079</td>\n",
              "    </tr>\n",
              "    <tr>\n",
              "      <th>unique</th>\n",
              "      <td>41748</td>\n",
              "      <td>39666</td>\n",
              "      <td>37806</td>\n",
              "      <td>268</td>\n",
              "      <td>2</td>\n",
              "      <td>20392</td>\n",
              "      <td>3</td>\n",
              "    </tr>\n",
              "    <tr>\n",
              "      <th>top</th>\n",
              "      <td>A8AE9169</td>\n",
              "      <td>Brand</td>\n",
              "      <td>Kartvelli</td>\n",
              "      <td>pop</td>\n",
              "      <td>Springfield</td>\n",
              "      <td>08:14:07</td>\n",
              "      <td>Friday</td>\n",
              "    </tr>\n",
              "    <tr>\n",
              "      <th>freq</th>\n",
              "      <td>76</td>\n",
              "      <td>136</td>\n",
              "      <td>136</td>\n",
              "      <td>8850</td>\n",
              "      <td>45360</td>\n",
              "      <td>14</td>\n",
              "      <td>23149</td>\n",
              "    </tr>\n",
              "  </tbody>\n",
              "</table>\n",
              "</div>"
            ],
            "text/plain": [
              "          userID  Track     artist  genre       City        time     Day\n",
              "count      65079  63736      57512  63881        65079     65079   65079\n",
              "unique     41748  39666      37806    268            2     20392       3\n",
              "top     A8AE9169  Brand  Kartvelli    pop  Springfield  08:14:07  Friday\n",
              "freq          76    136        136   8850        45360        14   23149"
            ]
          },
          "execution_count": 35,
          "metadata": {},
          "output_type": "execute_result"
        }
      ],
      "source": [
        "# leyendo el archivo y almacenándolo en df\n",
        "df = pd.read_csv('/datasets/music_project_en.csv')\n",
        "df.describe()"
      ]
    },
    {
      "cell_type": "code",
      "execution_count": null,
      "metadata": {
        "id": "oWTVX3gW_Zct",
        "outputId": "e1ffa660-6dfa-4b63-d2fe-a700686de7da"
      },
      "outputs": [
        {
          "data": {
            "text/html": [
              "<div>\n",
              "<style scoped>\n",
              "    .dataframe tbody tr th:only-of-type {\n",
              "        vertical-align: middle;\n",
              "    }\n",
              "\n",
              "    .dataframe tbody tr th {\n",
              "        vertical-align: top;\n",
              "    }\n",
              "\n",
              "    .dataframe thead th {\n",
              "        text-align: right;\n",
              "    }\n",
              "</style>\n",
              "<table border=\"1\" class=\"dataframe\">\n",
              "  <thead>\n",
              "    <tr style=\"text-align: right;\">\n",
              "      <th></th>\n",
              "      <th>userID</th>\n",
              "      <th>Track</th>\n",
              "      <th>artist</th>\n",
              "      <th>genre</th>\n",
              "      <th>City</th>\n",
              "      <th>time</th>\n",
              "      <th>Day</th>\n",
              "    </tr>\n",
              "  </thead>\n",
              "  <tbody>\n",
              "    <tr>\n",
              "      <th>0</th>\n",
              "      <td>FFB692EC</td>\n",
              "      <td>Kamigata To Boots</td>\n",
              "      <td>The Mass Missile</td>\n",
              "      <td>rock</td>\n",
              "      <td>Shelbyville</td>\n",
              "      <td>20:28:33</td>\n",
              "      <td>Wednesday</td>\n",
              "    </tr>\n",
              "    <tr>\n",
              "      <th>1</th>\n",
              "      <td>55204538</td>\n",
              "      <td>Delayed Because of Accident</td>\n",
              "      <td>Andreas Rönnberg</td>\n",
              "      <td>rock</td>\n",
              "      <td>Springfield</td>\n",
              "      <td>14:07:09</td>\n",
              "      <td>Friday</td>\n",
              "    </tr>\n",
              "    <tr>\n",
              "      <th>2</th>\n",
              "      <td>20EC38</td>\n",
              "      <td>Funiculì funiculà</td>\n",
              "      <td>Mario Lanza</td>\n",
              "      <td>pop</td>\n",
              "      <td>Shelbyville</td>\n",
              "      <td>20:58:07</td>\n",
              "      <td>Wednesday</td>\n",
              "    </tr>\n",
              "    <tr>\n",
              "      <th>3</th>\n",
              "      <td>A3DD03C9</td>\n",
              "      <td>Dragons in the Sunset</td>\n",
              "      <td>Fire + Ice</td>\n",
              "      <td>folk</td>\n",
              "      <td>Shelbyville</td>\n",
              "      <td>08:37:09</td>\n",
              "      <td>Monday</td>\n",
              "    </tr>\n",
              "    <tr>\n",
              "      <th>4</th>\n",
              "      <td>E2DC1FAE</td>\n",
              "      <td>Soul People</td>\n",
              "      <td>Space Echo</td>\n",
              "      <td>dance</td>\n",
              "      <td>Springfield</td>\n",
              "      <td>08:34:34</td>\n",
              "      <td>Monday</td>\n",
              "    </tr>\n",
              "    <tr>\n",
              "      <th>5</th>\n",
              "      <td>842029A1</td>\n",
              "      <td>Chains</td>\n",
              "      <td>Obladaet</td>\n",
              "      <td>rusrap</td>\n",
              "      <td>Shelbyville</td>\n",
              "      <td>13:09:41</td>\n",
              "      <td>Friday</td>\n",
              "    </tr>\n",
              "    <tr>\n",
              "      <th>6</th>\n",
              "      <td>4CB90AA5</td>\n",
              "      <td>True</td>\n",
              "      <td>Roman Messer</td>\n",
              "      <td>dance</td>\n",
              "      <td>Springfield</td>\n",
              "      <td>13:00:07</td>\n",
              "      <td>Wednesday</td>\n",
              "    </tr>\n",
              "    <tr>\n",
              "      <th>7</th>\n",
              "      <td>F03E1C1F</td>\n",
              "      <td>Feeling This Way</td>\n",
              "      <td>Polina Griffith</td>\n",
              "      <td>dance</td>\n",
              "      <td>Springfield</td>\n",
              "      <td>20:47:49</td>\n",
              "      <td>Wednesday</td>\n",
              "    </tr>\n",
              "    <tr>\n",
              "      <th>8</th>\n",
              "      <td>8FA1D3BE</td>\n",
              "      <td>L’estate</td>\n",
              "      <td>Julia Dalia</td>\n",
              "      <td>ruspop</td>\n",
              "      <td>Springfield</td>\n",
              "      <td>09:17:40</td>\n",
              "      <td>Friday</td>\n",
              "    </tr>\n",
              "    <tr>\n",
              "      <th>9</th>\n",
              "      <td>E772D5C0</td>\n",
              "      <td>Pessimist</td>\n",
              "      <td>NaN</td>\n",
              "      <td>dance</td>\n",
              "      <td>Shelbyville</td>\n",
              "      <td>21:20:49</td>\n",
              "      <td>Wednesday</td>\n",
              "    </tr>\n",
              "  </tbody>\n",
              "</table>\n",
              "</div>"
            ],
            "text/plain": [
              "     userID                        Track            artist   genre  \\\n",
              "0  FFB692EC            Kamigata To Boots  The Mass Missile    rock   \n",
              "1  55204538  Delayed Because of Accident  Andreas Rönnberg    rock   \n",
              "2    20EC38            Funiculì funiculà       Mario Lanza     pop   \n",
              "3  A3DD03C9        Dragons in the Sunset        Fire + Ice    folk   \n",
              "4  E2DC1FAE                  Soul People        Space Echo   dance   \n",
              "5  842029A1                       Chains          Obladaet  rusrap   \n",
              "6  4CB90AA5                         True      Roman Messer   dance   \n",
              "7  F03E1C1F             Feeling This Way   Polina Griffith   dance   \n",
              "8  8FA1D3BE                     L’estate       Julia Dalia  ruspop   \n",
              "9  E772D5C0                    Pessimist               NaN   dance   \n",
              "\n",
              "        City        time        Day  \n",
              "0  Shelbyville  20:28:33  Wednesday  \n",
              "1  Springfield  14:07:09     Friday  \n",
              "2  Shelbyville  20:58:07  Wednesday  \n",
              "3  Shelbyville  08:37:09     Monday  \n",
              "4  Springfield  08:34:34     Monday  \n",
              "5  Shelbyville  13:09:41     Friday  \n",
              "6  Springfield  13:00:07  Wednesday  \n",
              "7  Springfield  20:47:49  Wednesday  \n",
              "8  Springfield  09:17:40     Friday  \n",
              "9  Shelbyville  21:20:49  Wednesday  "
            ]
          },
          "execution_count": 36,
          "metadata": {},
          "output_type": "execute_result"
        }
      ],
      "source": [
        "# obteniendo las 10 primeras filas de la tabla df\n",
        "df.head(10)"
      ]
    },
    {
      "cell_type": "code",
      "execution_count": null,
      "metadata": {
        "id": "DSf2kIb-_Zct",
        "outputId": "8b336ad0-08d0-48ed-9539-8e19e8b8aac5"
      },
      "outputs": [
        {
          "name": "stdout",
          "output_type": "stream",
          "text": [
            "<class 'pandas.core.frame.DataFrame'>\n",
            "RangeIndex: 65079 entries, 0 to 65078\n",
            "Data columns (total 7 columns):\n",
            " #   Column    Non-Null Count  Dtype \n",
            "---  ------    --------------  ----- \n",
            " 0     userID  65079 non-null  object\n",
            " 1   Track     63736 non-null  object\n",
            " 2   artist    57512 non-null  object\n",
            " 3   genre     63881 non-null  object\n",
            " 4     City    65079 non-null  object\n",
            " 5   time      65079 non-null  object\n",
            " 6   Day       65079 non-null  object\n",
            "dtypes: object(7)\n",
            "memory usage: 3.5+ MB\n"
          ]
        }
      ],
      "source": [
        "# obteniendo información general sobre los datos en df\n",
        "df.info()"
      ]
    },
    {
      "cell_type": "markdown",
      "metadata": {
        "id": "MCB6-dXG_Zct"
      },
      "source": [
        "### Conclusiones <a id='data_review_conclusions'></a> \n",
        "\n",
        "Cada fila de la tabla almacena datos de la pista que fue reproducida. Algunas columnas describen la pista en sí: su título, el artista y el género. El resto transmite la información del usuario: la ciudad de la que viene, el tiempo que ha reproducido la pista. \n",
        "\n",
        "Está claro que los datos son suficientes para probar la hipótesis. Sin embargo, hay valores ausentes.\n",
        "\n",
        "Para continuar, necesitamos preprocesar los datos."
      ]
    },
    {
      "cell_type": "markdown",
      "metadata": {
        "id": "3eL__vcwViOi"
      },
      "source": [
        "[Volver a Contenidos](#back)"
      ]
    },
    {
      "cell_type": "markdown",
      "metadata": {
        "id": "SjYF6Ub9_Zct"
      },
      "source": [
        "## Etapa 2. Preprocesamiento de datos <a id='data_preprocessing'></a>"
      ]
    },
    {
      "cell_type": "code",
      "execution_count": null,
      "metadata": {
        "id": "oKOTdF_Q_Zct",
        "outputId": "3018aa7d-1b3d-434b-c470-abd2c1142f74"
      },
      "outputs": [
        {
          "data": {
            "text/plain": [
              "Index(['  userID', 'Track', 'artist', 'genre', '  City  ', 'time', 'Day'], dtype='object')"
            ]
          },
          "execution_count": 38,
          "metadata": {},
          "output_type": "execute_result"
        }
      ],
      "source": [
        "# la lista de los nombres de las columnas en la tabla df\n",
        "df.columns"
      ]
    },
    {
      "cell_type": "code",
      "execution_count": null,
      "metadata": {
        "id": "ISlFqs5y_Zct"
      },
      "outputs": [],
      "source": [
        "# renombra las columnas\n",
        "df = df.rename(columns={\n",
        "    '  userID': 'user_id',\n",
        "    'Track': 'track',\n",
        "    'artist': 'artist',\n",
        "    'genre': 'genre',\n",
        "    '  City  ': 'city',\n",
        "    'time': 'time',\n",
        "    'Day':'day'\n",
        "})"
      ]
    },
    {
      "cell_type": "code",
      "execution_count": null,
      "metadata": {
        "id": "d4NOAmTW_Zct",
        "outputId": "f48cfef6-172f-472a-8d0f-aa4a61670b39"
      },
      "outputs": [
        {
          "data": {
            "text/plain": [
              "Index(['user_id', 'track', 'artist', 'genre', 'city', 'time', 'day'], dtype='object')"
            ]
          },
          "execution_count": 104,
          "metadata": {},
          "output_type": "execute_result"
        }
      ],
      "source": [
        "# comprobando el resultado: la lista de los nombres de las columnas\n",
        "df.columns"
      ]
    },
    {
      "cell_type": "code",
      "execution_count": null,
      "metadata": {
        "id": "RskX29qr_Zct",
        "outputId": "8dd4466b-4621-4452-f008-2a9412113bee"
      },
      "outputs": [
        {
          "data": {
            "text/plain": [
              "user_id    0\n",
              "track      0\n",
              "artist     0\n",
              "genre      0\n",
              "city       0\n",
              "time       0\n",
              "day        0\n",
              "dtype: int64"
            ]
          },
          "execution_count": 89,
          "metadata": {},
          "output_type": "execute_result"
        }
      ],
      "source": [
        "# calculando valores ausentes\n",
        "df.isna().sum()"
      ]
    },
    {
      "cell_type": "code",
      "execution_count": null,
      "metadata": {
        "id": "KplB5qWs_Zct",
        "outputId": "b765d1c9-ccb5-496e-ea87-23c57532cda0"
      },
      "outputs": [
        {
          "name": "stdout",
          "output_type": "stream",
          "text": [
            "track\n",
            "artist\n",
            "genre\n"
          ]
        }
      ],
      "source": [
        "# recorriendo los nombres de las columnas y reemplazando los valores ausentes con 'unknown'\n",
        "columns_to_replace = ['track', 'artist', 'genre']\n",
        "\n",
        "for col in columns_to_replace:\n",
        "  print(col)\n",
        "  df[col] = df[col].fillna(\"unknown\")"
      ]
    },
    {
      "cell_type": "code",
      "execution_count": null,
      "metadata": {
        "id": "Tq4nYRX4_Zct",
        "outputId": "525a96bb-ab27-4438-ab40-1e449e4a0d70"
      },
      "outputs": [
        {
          "data": {
            "text/plain": [
              "user_id    0\n",
              "track      0\n",
              "artist     0\n",
              "genre      0\n",
              "city       0\n",
              "time       0\n",
              "day        0\n",
              "dtype: int64"
            ]
          },
          "execution_count": 91,
          "metadata": {},
          "output_type": "execute_result"
        }
      ],
      "source": [
        "# verificar nuevos valores ausentes\n",
        "df.isna().sum()"
      ]
    },
    {
      "cell_type": "code",
      "execution_count": null,
      "metadata": {
        "id": "36eES_S0_Zct",
        "outputId": "46bb9592-4a41-4b06-b2c2-14d242b75c94"
      },
      "outputs": [
        {
          "data": {
            "text/plain": [
              "0"
            ]
          },
          "execution_count": 92,
          "metadata": {},
          "output_type": "execute_result"
        }
      ],
      "source": [
        "# contando duplicado obvios\n",
        "df.duplicated().sum()"
      ]
    },
    {
      "cell_type": "code",
      "execution_count": null,
      "metadata": {
        "id": "exFHq6tt_Zct"
      },
      "outputs": [],
      "source": [
        "# eliminando duplicados obvios\n",
        "df = df.drop_duplicates()"
      ]
    },
    {
      "cell_type": "code",
      "execution_count": null,
      "metadata": {
        "id": "-8PuNWQ0_Zct",
        "outputId": "c100b8f1-8502-4b07-c2c2-24f720a08550"
      },
      "outputs": [
        {
          "data": {
            "text/plain": [
              "0"
            ]
          },
          "execution_count": 94,
          "metadata": {},
          "output_type": "execute_result"
        }
      ],
      "source": [
        "# comprobando duplicados\n",
        "df.duplicated().sum()"
      ]
    },
    {
      "cell_type": "code",
      "execution_count": null,
      "metadata": {
        "id": "JIUcqzZN_Zct",
        "outputId": "9f9bef8e-881b-47b1-cdfd-012cc346b2e5"
      },
      "outputs": [
        {
          "data": {
            "text/plain": [
              "array(['acid', 'acoustic', 'action', 'adult', 'africa', 'afrikaans',\n",
              "       'alternative', 'ambient', 'americana', 'animated', 'anime',\n",
              "       'arabesk', 'arabic', 'arena', 'argentinetango', 'art', 'audiobook',\n",
              "       'avantgarde', 'axé', 'baile', 'balkan', 'beats', 'bigroom',\n",
              "       'black', 'bluegrass', 'blues', 'bollywood', 'bossa', 'brazilian',\n",
              "       'breakbeat', 'breaks', 'broadway', 'cantautori', 'cantopop',\n",
              "       'canzone', 'caribbean', 'caucasian', 'celtic', 'chamber',\n",
              "       'children', 'chill', 'chinese', 'choral', 'christian', 'christmas',\n",
              "       'classical', 'classicmetal', 'club', 'colombian', 'comedy',\n",
              "       'conjazz', 'contemporary', 'country', 'cuban', 'dance',\n",
              "       'dancehall', 'dancepop', 'dark', 'death', 'deep', 'deutschrock',\n",
              "       'deutschspr', 'dirty', 'disco', 'dnb', 'documentary', 'downbeat',\n",
              "       'downtempo', 'drum', 'dub', 'dubstep', 'eastern', 'easy',\n",
              "       'electronic', 'electropop', 'emo', 'entehno', 'epicmetal',\n",
              "       'estrada', 'ethnic', 'eurofolk', 'european', 'experimental',\n",
              "       'extrememetal', 'fado', 'film', 'fitness', 'flamenco', 'folk',\n",
              "       'folklore', 'folkmetal', 'folkrock', 'folktronica', 'forró',\n",
              "       'frankreich', 'französisch', 'french', 'funk', 'future', 'gangsta',\n",
              "       'garage', 'german', 'ghazal', 'gitarre', 'glitch', 'gospel',\n",
              "       'gothic', 'grime', 'grunge', 'gypsy', 'handsup', \"hard'n'heavy\",\n",
              "       'hardcore', 'hardstyle', 'hardtechno', 'hiphop', 'historisch',\n",
              "       'holiday', 'horror', 'house', 'idm', 'independent', 'indian',\n",
              "       'indie', 'indipop', 'industrial', 'inspirational', 'instrumental',\n",
              "       'international', 'irish', 'jam', 'japanese', 'jazz', 'jewish',\n",
              "       'jpop', 'jungle', 'k-pop', 'karadeniz', 'karaoke', 'kayokyoku',\n",
              "       'korean', 'laiko', 'latin', 'latino', 'leftfield', 'local',\n",
              "       'lounge', 'loungeelectronic', 'lovers', 'malaysian', 'mandopop',\n",
              "       'marschmusik', 'meditative', 'mediterranean', 'melodic', 'metal',\n",
              "       'metalcore', 'mexican', 'middle', 'minimal', 'miscellaneous',\n",
              "       'modern', 'mood', 'mpb', 'muslim', 'native', 'neoklassik', 'neue',\n",
              "       'new', 'newage', 'newwave', 'nu', 'nujazz', 'numetal', 'oceania',\n",
              "       'old', 'opera', 'orchestral', 'other', 'piano', 'pop',\n",
              "       'popelectronic', 'popeurodance', 'post', 'posthardcore',\n",
              "       'postrock', 'power', 'progmetal', 'progressive', 'psychedelic',\n",
              "       'punjabi', 'punk', 'quebecois', 'ragga', 'ram', 'rancheras', 'rap',\n",
              "       'rave', 'reggae', 'reggaeton', 'regional', 'relax', 'religious',\n",
              "       'retro', 'rhythm', 'rnb', 'rnr', 'rock', 'rockabilly', 'romance',\n",
              "       'roots', 'ruspop', 'rusrap', 'rusrock', 'salsa', 'samba',\n",
              "       'schlager', 'self', 'sertanejo', 'shoegazing', 'showtunes',\n",
              "       'singer', 'ska', 'slow', 'smooth', 'soul', 'soulful', 'sound',\n",
              "       'soundtrack', 'southern', 'specialty', 'speech', 'spiritual',\n",
              "       'sport', 'stonerrock', 'surf', 'swing', 'synthpop',\n",
              "       'sängerportrait', 'tango', 'tanzorchester', 'taraftar', 'tech',\n",
              "       'techno', 'thrash', 'top', 'traditional', 'tradjazz', 'trance',\n",
              "       'tribal', 'trip', 'triphop', 'tropical', 'türk', 'türkçe',\n",
              "       'unknown', 'urban', 'uzbek', 'variété', 'vi', 'videogame', 'vocal',\n",
              "       'western', 'world', 'worldbeat', 'ïîï'], dtype=object)"
            ]
          },
          "execution_count": 95,
          "metadata": {},
          "output_type": "execute_result"
        }
      ],
      "source": [
        "# inspeccionando los nombres de géneros únicos\n",
        "df['genre'].sort_values(ascending=True).unique()"
      ]
    },
    {
      "cell_type": "code",
      "execution_count": null,
      "metadata": {
        "id": "ErNDkmns_Zct"
      },
      "outputs": [],
      "source": [
        "# función para reemplazar duplicados implícitos\n",
        "def replace_wrong_genres(wrong_genres, correct_genre):\n",
        "    correct_genre_name = df['genre'].replace(wrong_genres, correct_genre)\n",
        "    return correct_genre_name"
      ]
    },
    {
      "cell_type": "code",
      "execution_count": null,
      "metadata": {
        "id": "YN5i2hpmSo09"
      },
      "outputs": [],
      "source": [
        "# eliminando duplicados implícitos\n",
        "wrong_genres = ['hip','hop','hip-hop']\n",
        "correct_genre = 'hiphop'\n",
        "\n",
        "df['genre'] = replace_wrong_genres(wrong_genres, correct_genre)"
      ]
    },
    {
      "cell_type": "code",
      "execution_count": null,
      "metadata": {
        "id": "wvixALnFG15m",
        "outputId": "c3b728f1-bcc5-4d30-cc1d-c42fc7d297e6"
      },
      "outputs": [
        {
          "data": {
            "text/plain": [
              "array(['acid', 'acoustic', 'action', 'adult', 'africa', 'afrikaans',\n",
              "       'alternative', 'ambient', 'americana', 'animated', 'anime',\n",
              "       'arabesk', 'arabic', 'arena', 'argentinetango', 'art', 'audiobook',\n",
              "       'avantgarde', 'axé', 'baile', 'balkan', 'beats', 'bigroom',\n",
              "       'black', 'bluegrass', 'blues', 'bollywood', 'bossa', 'brazilian',\n",
              "       'breakbeat', 'breaks', 'broadway', 'cantautori', 'cantopop',\n",
              "       'canzone', 'caribbean', 'caucasian', 'celtic', 'chamber',\n",
              "       'children', 'chill', 'chinese', 'choral', 'christian', 'christmas',\n",
              "       'classical', 'classicmetal', 'club', 'colombian', 'comedy',\n",
              "       'conjazz', 'contemporary', 'country', 'cuban', 'dance',\n",
              "       'dancehall', 'dancepop', 'dark', 'death', 'deep', 'deutschrock',\n",
              "       'deutschspr', 'dirty', 'disco', 'dnb', 'documentary', 'downbeat',\n",
              "       'downtempo', 'drum', 'dub', 'dubstep', 'eastern', 'easy',\n",
              "       'electronic', 'electropop', 'emo', 'entehno', 'epicmetal',\n",
              "       'estrada', 'ethnic', 'eurofolk', 'european', 'experimental',\n",
              "       'extrememetal', 'fado', 'film', 'fitness', 'flamenco', 'folk',\n",
              "       'folklore', 'folkmetal', 'folkrock', 'folktronica', 'forró',\n",
              "       'frankreich', 'französisch', 'french', 'funk', 'future', 'gangsta',\n",
              "       'garage', 'german', 'ghazal', 'gitarre', 'glitch', 'gospel',\n",
              "       'gothic', 'grime', 'grunge', 'gypsy', 'handsup', \"hard'n'heavy\",\n",
              "       'hardcore', 'hardstyle', 'hardtechno', 'hiphop', 'historisch',\n",
              "       'holiday', 'horror', 'house', 'idm', 'independent', 'indian',\n",
              "       'indie', 'indipop', 'industrial', 'inspirational', 'instrumental',\n",
              "       'international', 'irish', 'jam', 'japanese', 'jazz', 'jewish',\n",
              "       'jpop', 'jungle', 'k-pop', 'karadeniz', 'karaoke', 'kayokyoku',\n",
              "       'korean', 'laiko', 'latin', 'latino', 'leftfield', 'local',\n",
              "       'lounge', 'loungeelectronic', 'lovers', 'malaysian', 'mandopop',\n",
              "       'marschmusik', 'meditative', 'mediterranean', 'melodic', 'metal',\n",
              "       'metalcore', 'mexican', 'middle', 'minimal', 'miscellaneous',\n",
              "       'modern', 'mood', 'mpb', 'muslim', 'native', 'neoklassik', 'neue',\n",
              "       'new', 'newage', 'newwave', 'nu', 'nujazz', 'numetal', 'oceania',\n",
              "       'old', 'opera', 'orchestral', 'other', 'piano', 'pop',\n",
              "       'popelectronic', 'popeurodance', 'post', 'posthardcore',\n",
              "       'postrock', 'power', 'progmetal', 'progressive', 'psychedelic',\n",
              "       'punjabi', 'punk', 'quebecois', 'ragga', 'ram', 'rancheras', 'rap',\n",
              "       'rave', 'reggae', 'reggaeton', 'regional', 'relax', 'religious',\n",
              "       'retro', 'rhythm', 'rnb', 'rnr', 'rock', 'rockabilly', 'romance',\n",
              "       'roots', 'ruspop', 'rusrap', 'rusrock', 'salsa', 'samba',\n",
              "       'schlager', 'self', 'sertanejo', 'shoegazing', 'showtunes',\n",
              "       'singer', 'ska', 'slow', 'smooth', 'soul', 'soulful', 'sound',\n",
              "       'soundtrack', 'southern', 'specialty', 'speech', 'spiritual',\n",
              "       'sport', 'stonerrock', 'surf', 'swing', 'synthpop',\n",
              "       'sängerportrait', 'tango', 'tanzorchester', 'taraftar', 'tech',\n",
              "       'techno', 'thrash', 'top', 'traditional', 'tradjazz', 'trance',\n",
              "       'tribal', 'trip', 'triphop', 'tropical', 'türk', 'türkçe',\n",
              "       'unknown', 'urban', 'uzbek', 'variété', 'vi', 'videogame', 'vocal',\n",
              "       'western', 'world', 'worldbeat', 'ïîï'], dtype=object)"
            ]
          },
          "execution_count": 98,
          "metadata": {},
          "output_type": "execute_result"
        }
      ],
      "source": [
        "# revisando en busca de duplicados implícitos\n",
        "df['genre'].sort_values(ascending = True).unique()"
      ]
    },
    {
      "cell_type": "markdown",
      "metadata": {
        "id": "jz6a9-7HQUDd"
      },
      "source": [
        "### Conclusiones <a id='data_preprocessing_conclusions'></a>\n",
        "Detectamos tres problemas con los datos:\n",
        "\n",
        "- Estilos de encabezados incorrectos\n",
        "- Valores ausentes\n",
        "- Duplicados obvios e implícitos\n",
        "\n",
        "Los encabezados han sido eliminados para conseguir que el procesamiento de la tabla sea más sencillo.\n",
        "\n",
        "Todos los valores ausentes han sido reemplazados por `'unknown'`. Pero todavía tenemos que ver si los valores ausentes en `'genre'` afectan a nuestros cálculos.\n",
        "\n",
        "La ausencia de duplicados hará que los resultados sean mas precisos y fáciles de entender.\n",
        "\n",
        "Ahora ya podemos continuar probando las hipótesis. "
      ]
    },
    {
      "cell_type": "markdown",
      "metadata": {
        "id": "WttZHXH0SqKk"
      },
      "source": [
        "## Etapa 3. Prueba de hipótesis <a id='hypotheses'></a>"
      ]
    },
    {
      "cell_type": "markdown",
      "metadata": {
        "id": "Im936VVi_Zcu"
      },
      "source": [
        "### Hipótesis 1: comparar el comportamiento del usuario en las dos ciudades <a id='activity'></a>"
      ]
    },
    {
      "cell_type": "code",
      "execution_count": null,
      "metadata": {
        "id": "0_Qs96oh_Zcu",
        "outputId": "5fd96376-e386-461c-9e4e-56a09244e1df"
      },
      "outputs": [
        {
          "data": {
            "text/plain": [
              "city\n",
              "Shelbyville    18512\n",
              "Springfield    42741\n",
              "Name: user_id, dtype: int64"
            ]
          },
          "execution_count": 105,
          "metadata": {},
          "output_type": "execute_result"
        }
      ],
      "source": [
        "# contando las pistas reproducidas en cada ciudad\n",
        "df.groupby('city')['user_id'].count()"
      ]
    },
    {
      "cell_type": "markdown",
      "metadata": {
        "id": "dzli3w8o_Zcu"
      },
      "source": [
        "Springfield ha reproducido más pistas que Shelbyville. Pero eso no implica que los ciudadanos de Springfield escuchen música más a menudo. Esta ciudad es simplemente más grande y hay más usuarios.\n",
        "\n",
        "Ahora agrupa los datos por día de la semana y encuentra el número de pistas reproducidas el lunes, miércoles y viernes.\n"
      ]
    },
    {
      "cell_type": "code",
      "execution_count": null,
      "metadata": {
        "id": "uZMKjiJz_Zcu",
        "outputId": "ced12b0c-51ee-4384-e2ee-6865d2ee9839"
      },
      "outputs": [
        {
          "data": {
            "text/plain": [
              "city         day      \n",
              "Shelbyville  Friday        5895\n",
              "             Monday        5614\n",
              "             Wednesday     7003\n",
              "Springfield  Friday       15945\n",
              "             Monday       15740\n",
              "             Wednesday    11056\n",
              "Name: user_id, dtype: int64"
            ]
          },
          "execution_count": 106,
          "metadata": {},
          "output_type": "execute_result"
        }
      ],
      "source": [
        "# calculando las pistas reproducidas en cada uno de los tres días\n",
        "df.groupby(['city','day'])['user_id'].count()"
      ]
    },
    {
      "cell_type": "markdown",
      "metadata": {
        "id": "cC2tNrlL_Zcu"
      },
      "source": [
        "El miércoles fue el día más silencioso de todos. Pero si consideramos las dos ciudades por separado podríamos llegar a una conclusión diferente."
      ]
    },
    {
      "cell_type": "code",
      "execution_count": null,
      "metadata": {
        "id": "Nz3GdQB1_Zcu"
      },
      "outputs": [],
      "source": [
        "# <creando la función number_tracks()>\n",
        "\n",
        "def number_tracks(city, day):\n",
        "    track_list = df.loc[df['day']== day]\n",
        "    track_list = track_list.loc[track_list['city']== city]\n",
        "    return track_list['user_id'].count()"
      ]
    },
    {
      "cell_type": "code",
      "execution_count": null,
      "metadata": {
        "id": "rJcRATNQ_Zcu",
        "outputId": "e9e4d1c6-a399-4451-8b71-30292a556379"
      },
      "outputs": [
        {
          "data": {
            "text/plain": [
              "15740"
            ]
          },
          "execution_count": 108,
          "metadata": {},
          "output_type": "execute_result"
        }
      ],
      "source": [
        "# el número de canciones reproducidas en Springfield el lunes\n",
        "number_tracks('Springfield', 'Monday')"
      ]
    },
    {
      "cell_type": "code",
      "execution_count": null,
      "metadata": {
        "id": "hq_ncZ5T_Zcu",
        "outputId": "45b3db49-45ad-4ad3-c0d6-8fd79956b7eb"
      },
      "outputs": [
        {
          "data": {
            "text/plain": [
              "5614"
            ]
          },
          "execution_count": 109,
          "metadata": {},
          "output_type": "execute_result"
        }
      ],
      "source": [
        "# el número de canciones reproducidas en Shelbyville el lunes\n",
        "number_tracks('Shelbyville', 'Monday')"
      ]
    },
    {
      "cell_type": "code",
      "execution_count": null,
      "metadata": {
        "id": "_NTy2VPU_Zcu",
        "outputId": "1e95845a-aa57-4c68-be49-b2844676afc6"
      },
      "outputs": [
        {
          "data": {
            "text/plain": [
              "11056"
            ]
          },
          "execution_count": 110,
          "metadata": {},
          "output_type": "execute_result"
        }
      ],
      "source": [
        "# el número de canciones reproducidas en Springfield el miércoles\n",
        "number_tracks('Springfield', 'Wednesday')"
      ]
    },
    {
      "cell_type": "code",
      "execution_count": null,
      "metadata": {
        "id": "j2y3TAwo_Zcu",
        "outputId": "346e0441-2236-4df3-b5cc-6874f693e0da"
      },
      "outputs": [
        {
          "data": {
            "text/plain": [
              "7003"
            ]
          },
          "execution_count": 111,
          "metadata": {},
          "output_type": "execute_result"
        }
      ],
      "source": [
        "# el número de canciones reproducidas en Shelbyville el miércoles\n",
        "number_tracks('Shelbyville', 'Wednesday')"
      ]
    },
    {
      "cell_type": "code",
      "execution_count": null,
      "metadata": {
        "id": "vYDw5u_K_Zcu",
        "outputId": "eeff8524-6d01-469f-f429-498f2f7a0dff"
      },
      "outputs": [
        {
          "data": {
            "text/plain": [
              "15945"
            ]
          },
          "execution_count": 112,
          "metadata": {},
          "output_type": "execute_result"
        }
      ],
      "source": [
        "# el número de canciones reproducidas en Springfield el viernes\n",
        "number_tracks('Springfield', 'Friday')"
      ]
    },
    {
      "cell_type": "code",
      "execution_count": null,
      "metadata": {
        "id": "8_yzFtW3_Zcu",
        "outputId": "04861058-70e8-4a85-dc76-c6c8fc899315"
      },
      "outputs": [
        {
          "data": {
            "text/plain": [
              "5895"
            ]
          },
          "execution_count": 113,
          "metadata": {},
          "output_type": "execute_result"
        }
      ],
      "source": [
        "# el número de canciones reproducidas en Shelbyville el viernes\n",
        "number_tracks('Shelbyville', 'Friday')"
      ]
    },
    {
      "cell_type": "code",
      "execution_count": null,
      "metadata": {
        "id": "APAcLpOr_Zcu",
        "outputId": "b2962671-95d9-4d34-dd1c-698b3c31b30f"
      },
      "outputs": [
        {
          "data": {
            "text/html": [
              "<div>\n",
              "<style scoped>\n",
              "    .dataframe tbody tr th:only-of-type {\n",
              "        vertical-align: middle;\n",
              "    }\n",
              "\n",
              "    .dataframe tbody tr th {\n",
              "        vertical-align: top;\n",
              "    }\n",
              "\n",
              "    .dataframe thead th {\n",
              "        text-align: right;\n",
              "    }\n",
              "</style>\n",
              "<table border=\"1\" class=\"dataframe\">\n",
              "  <thead>\n",
              "    <tr style=\"text-align: right;\">\n",
              "      <th></th>\n",
              "      <th>city</th>\n",
              "      <th>monday</th>\n",
              "      <th>wednesday</th>\n",
              "      <th>friday</th>\n",
              "    </tr>\n",
              "  </thead>\n",
              "  <tbody>\n",
              "    <tr>\n",
              "      <th>0</th>\n",
              "      <td>Shelbyville</td>\n",
              "      <td>5614</td>\n",
              "      <td>7003</td>\n",
              "      <td>5895</td>\n",
              "    </tr>\n",
              "    <tr>\n",
              "      <th>1</th>\n",
              "      <td>Springfield</td>\n",
              "      <td>15740</td>\n",
              "      <td>11056</td>\n",
              "      <td>15945</td>\n",
              "    </tr>\n",
              "  </tbody>\n",
              "</table>\n",
              "</div>"
            ],
            "text/plain": [
              "          city  monday  wednesday  friday\n",
              "0  Shelbyville    5614       7003    5895\n",
              "1  Springfield   15740      11056   15945"
            ]
          },
          "execution_count": 120,
          "metadata": {},
          "output_type": "execute_result"
        }
      ],
      "source": [
        "# tabla con los resultados\n",
        "summary_table = pd.DataFrame(\n",
        "    [['Shelbyville',5614, 7003, 5895], ['Springfield',15740, 11056, 15945]],\n",
        "    columns = ['city', 'monday', 'wednesday', 'friday']\n",
        "    )\n",
        "summary_table"
      ]
    },
    {
      "cell_type": "markdown",
      "metadata": {
        "id": "-EgPIHYu_Zcu"
      },
      "source": [
        "**Conclusiones**\n",
        "\n",
        "Los datos revelan las diferencias en el comportamiento de los usuarios:\n",
        "\n",
        "- En Springfield, el número de canciones reproducidas alcanzan el punto máximo los lunes y viernes mientras que los miércoles hay un descenso de la actividad.\n",
        "- En Shelbyville, al contario, los usuarios escuchan más música los miércoles. La actividad de los usuarios los lunes y viernes es menor.\n",
        "\n",
        "Así que la primera hipótesis parece ser correcta."
      ]
    },
    {
      "cell_type": "markdown",
      "metadata": {
        "id": "atZAxtq4_Zcu"
      },
      "source": [
        "### Hipótesis 2: música al principio y al final de la semana <a id='week'></a>"
      ]
    },
    {
      "cell_type": "markdown",
      "metadata": {
        "id": "eXrQqXFH_Zcu"
      },
      "source": [
        "De acuerdo con la segunda hipótesis, los lunes por la mañana y los viernes por la noche los ciudadanos de Springfield escuchan géneros que difieren de aquellos que los usuarios de Shelbyville disfrutan."
      ]
    },
    {
      "cell_type": "code",
      "execution_count": null,
      "metadata": {
        "id": "qeaFfM_P_Zcu",
        "colab": {
          "base_uri": "https://localhost:8080/",
          "height": 201
        },
        "outputId": "db797ccc-3fcb-4958-cad6-ec59f360e636"
      },
      "outputs": [
        {
          "output_type": "error",
          "ename": "NameError",
          "evalue": "ignored",
          "traceback": [
            "\u001b[0;31m---------------------------------------------------------------------------\u001b[0m",
            "\u001b[0;31mNameError\u001b[0m                                 Traceback (most recent call last)",
            "\u001b[0;32m<ipython-input-1-533c5f70fc37>\u001b[0m in \u001b[0;36m<module>\u001b[0;34m\u001b[0m\n\u001b[1;32m      1\u001b[0m \u001b[0;31m# obteniendo la tabla spr_general de las filas de df,\u001b[0m\u001b[0;34m\u001b[0m\u001b[0;34m\u001b[0m\u001b[0m\n\u001b[1;32m      2\u001b[0m \u001b[0;31m# donde los valores en la columna 'city' es 'Springfield'\u001b[0m\u001b[0;34m\u001b[0m\u001b[0;34m\u001b[0m\u001b[0m\n\u001b[0;32m----> 3\u001b[0;31m \u001b[0mspr_general\u001b[0m \u001b[0;34m=\u001b[0m \u001b[0mdf\u001b[0m\u001b[0;34m.\u001b[0m\u001b[0mloc\u001b[0m\u001b[0;34m[\u001b[0m\u001b[0mdf\u001b[0m\u001b[0;34m[\u001b[0m\u001b[0;34m'city'\u001b[0m\u001b[0;34m]\u001b[0m\u001b[0;34m==\u001b[0m \u001b[0;34m'Springfield'\u001b[0m\u001b[0;34m]\u001b[0m\u001b[0;34m\u001b[0m\u001b[0;34m\u001b[0m\u001b[0m\n\u001b[0m",
            "\u001b[0;31mNameError\u001b[0m: name 'df' is not defined"
          ]
        }
      ],
      "source": [
        "# obteniendo la tabla spr_general de las filas de df, \n",
        "# donde los valores en la columna 'city' es 'Springfield'\n",
        "spr_general = df.loc[df['city']== 'Springfield']"
      ]
    },
    {
      "cell_type": "code",
      "execution_count": null,
      "metadata": {
        "id": "ORaVRKto_Zcu"
      },
      "outputs": [],
      "source": [
        "# obteniendo shel_general de las filas df,\n",
        "# donde el valor de la columna 'city' es 'Shelbyville'\n",
        "shel_general = df.loc[df['city']== 'Shelbyville']"
      ]
    },
    {
      "cell_type": "code",
      "execution_count": null,
      "metadata": {
        "id": "laJT9BYl_Zcu"
      },
      "outputs": [],
      "source": [
        "\n",
        "def genre_weekday(df, day, time1, time2):\n",
        "\n",
        "    # filtrado consecutivo\n",
        "    # genre_df solo almacenará aquellas filas df en las que el día sea igual a day=\n",
        "    genre_df = df.loc[df['day']== day]\n",
        "\n",
        "    # genre_df solo almacenará aquellas filas df en las que el tiempo sea menos que time2=\n",
        "    genre_df = genre_df.loc[genre_df['time'] < time2]\n",
        "\n",
        "    # genre_df solo almacenará aquellas filas df en las que el tiempo sea mayor que time1=\n",
        "    genre_df = genre_df.loc[genre_df['time'] > time1]\n",
        "\n",
        "    # agrupa el DataFrame filtrado por la columna con los nombres de los géneros, toma la columna de género, y encuentra el número de filas por cada género con el método count()\n",
        "    genre_df_grouped = genre_df.groupby('genre')['genre'].count()\n",
        "\n",
        "    # ordenaremos el resultado en orden descendente (por lo que los géneros más populares aparecerán primero en el objeto Series)\n",
        "    genre_df_sorted = genre_df_grouped.sort_values(ascending=False)\n",
        "\n",
        "    # devolveremos el objeto Series que almacena los 15 géneros más populares en un día determinado en un periodo de tiempo determinado\n",
        "    return genre_df_sorted[:15]"
      ]
    },
    {
      "cell_type": "markdown",
      "metadata": {
        "id": "la2s2_PF_Zcu"
      },
      "source": [
        "Compara los resultados de la función `genre_weekday()`para Springfield y Shelbyville el lunes por la mañana (de 7 a 11) y el viernes por la tarde (de 17:00 a 23:00):"
      ]
    },
    {
      "cell_type": "code",
      "execution_count": null,
      "metadata": {
        "id": "yz7itPUQ_Zcu"
      },
      "outputs": [],
      "source": [
        "# llamando a la función para el lunes por la mañana en Springfield (utilizando spr_general en vez de la tabla df)\n",
        "genre_weekday(spr_general, 'Monday', '07:00:00', '11:00:00')"
      ]
    },
    {
      "cell_type": "code",
      "execution_count": null,
      "metadata": {
        "id": "kwUcHPdy_Zcu"
      },
      "outputs": [],
      "source": [
        "# llamando a la función para el lunes por la mañana en Shelbyville (utilizando shel_general en vez de la tabla df)\n",
        "genre_weekday(shel_general, 'Monday', '07:00:00', '11:00:00')"
      ]
    },
    {
      "cell_type": "code",
      "execution_count": null,
      "metadata": {
        "id": "EzXVRE1o_Zcu"
      },
      "outputs": [],
      "source": [
        "# llamando a la función para el viernes por la tarde en Springfield\n",
        "genre_weekday(spr_general, 'Friday', '17:00:00', '23:00:00')"
      ]
    },
    {
      "cell_type": "code",
      "execution_count": null,
      "metadata": {
        "id": "JZaEKu5v_Zcu"
      },
      "outputs": [],
      "source": [
        "# llamando a la función para el viernes por la tarde en Shelbyville\n",
        "genre_weekday(shel_general, 'Friday', '17:00:00', '23:00:00')"
      ]
    },
    {
      "cell_type": "markdown",
      "metadata": {
        "id": "wrCe4MNX_Zcu"
      },
      "source": [
        "**Conclusión**\n",
        "\n",
        "Habiendo comparado los 15 géneros más populares del lunes por la mañana podemos concluir lo siguiente:\n",
        "\n",
        "1. Los usuarios de Springfield y Shelbyville escuchan música similar. Los cinco géneros más populares son los mismos, solo rock y electrónica han intercambiado posiciones.\n",
        "\n",
        "2. En Springfield el número de valores ausentes resultaron ser tan altos que el valor `'unknown'` llegó al décimo. Esto significa que los valores ausentes forman una parte considerable de los datos, lo que podría ser la base de la cuestión sobre la fiabilidad de nuestras conclusiones.\n",
        "\n",
        "Para el viernes por la tarde, la situación es similar. Los géneros individuales varían algo pero, en general, los 15 más populares son parecidos en las dos ciudades.\n",
        "\n",
        "De esta forma, la segunda hipótesis ha sido parcialmente demostrada:\n",
        "* Los usuarios escuchan música similar al principio y al final de la semana.\n",
        "* No hay una gran diferencia entre Springfield y Shelbyville. En ambas ciudades, el pop es el género más popular.\n",
        "\n",
        "Sin embargo, el número de valores ausentes hace este resultado un tanto cuestionable. En Springfield, hay tantos que afectan a nuestros 15 más populares. De no faltarnos esos valores, las cosas podrían parecer diferentes."
      ]
    },
    {
      "cell_type": "markdown",
      "metadata": {
        "id": "JolODAqr_Zcu"
      },
      "source": [
        "### Hipótesis 3: preferencias de género en Springfield y Shelbyville <a id='genre'></a>\n",
        "\n",
        "Hipótesis: Shelbyville ama la música rap. A los ciudadanos de Springfield les gusta más el pop."
      ]
    },
    {
      "cell_type": "code",
      "execution_count": null,
      "metadata": {
        "id": "r19lIPke_Zcu"
      },
      "outputs": [],
      "source": [
        "# ordena el Series resultante en orden descendiente, y almacénalo en spr_genres\n",
        "spr_genres = spr_general.groupby('genre')['user_id'].count().sort_values(ascending=False)"
      ]
    },
    {
      "cell_type": "code",
      "execution_count": null,
      "metadata": {
        "id": "WhCSooF8_Zcv",
        "outputId": "2de44fcd-dd01-4eab-96e0-ce0f08c1abbe"
      },
      "outputs": [
        {
          "data": {
            "text/plain": [
              "genre\n",
              "pop            5892\n",
              "dance          4435\n",
              "rock           3965\n",
              "electronic     3786\n",
              "hiphop         2096\n",
              "classical      1616\n",
              "world          1432\n",
              "alternative    1379\n",
              "ruspop         1372\n",
              "rusrap         1161\n",
              "Name: user_id, dtype: int64"
            ]
          },
          "execution_count": 130,
          "metadata": {},
          "output_type": "execute_result"
        }
      ],
      "source": [
        "# imprimiendo las 10 primeras filas de spr_genres\n",
        "spr_genres.head(10)"
      ]
    },
    {
      "cell_type": "code",
      "execution_count": null,
      "metadata": {
        "id": "gluLIpE7_Zcv"
      },
      "outputs": [],
      "source": [
        "# ordena el Series resultante en orden descendente y guárdalo en shel_genres\n",
        "shel_genres = shel_general.groupby('genre')['user_id'].count().sort_values(ascending=False)"
      ]
    },
    {
      "cell_type": "code",
      "execution_count": null,
      "metadata": {
        "id": "uaGJHjVU_Zcv",
        "outputId": "0e421af3-f77b-4d2a-f4f1-f94b8652b332"
      },
      "outputs": [
        {
          "data": {
            "text/plain": [
              "genre\n",
              "pop            2431\n",
              "dance          1932\n",
              "rock           1879\n",
              "electronic     1736\n",
              "hiphop          960\n",
              "alternative     649\n",
              "classical       646\n",
              "rusrap          564\n",
              "ruspop          538\n",
              "world           515\n",
              "Name: user_id, dtype: int64"
            ]
          },
          "execution_count": 132,
          "metadata": {},
          "output_type": "execute_result"
        }
      ],
      "source": [
        "# imprimiendo las 10 primeras filas de shel_genres\n",
        "shel_genres.head(10)"
      ]
    },
    {
      "cell_type": "markdown",
      "metadata": {
        "id": "RY51YJYu_Zcv"
      },
      "source": [
        "**Conclusión**"
      ]
    },
    {
      "cell_type": "markdown",
      "metadata": {
        "id": "nVhnJEm__Zcv"
      },
      "source": [
        "La hipótesis ha sido parcialmente demostrada:\n",
        "* La música pop es el género más popular en Springfield, tal como se esperaba.\n",
        "* Sin embargo, la música pop ha resultado ser igual de popular en Springfield que en Shelbyville y el rap no estaba entre los 5 más populares en ninguna de las ciudades.\n"
      ]
    },
    {
      "cell_type": "markdown",
      "metadata": {
        "id": "ykKQ0N65_Zcv"
      },
      "source": [
        "# Conclusiones <a id='end'></a>"
      ]
    },
    {
      "cell_type": "markdown",
      "metadata": {
        "id": "tjUwbHb3_Zcv"
      },
      "source": [
        "Hemos probado las siguientes tres hipótesis:\n",
        "\n",
        "1. La actividad de los usuarios difiere dependiendo del día de la semana y de las distintas ciudades. \n",
        "2. Los lunes por la mañana los residentes de Springfield y Shelbyville escuchan géneros distintos. Lo mismo ocurre con los viernes por la noche.\n",
        "3. Los oyentes de Springfield y Shelbyville tienen distintas preferencias. En ambas ciudades, Springfield y Shelbyville, se prefiere el pop.\n",
        "\n",
        "Tras analizar los datos, concluimos:\n",
        "\n",
        "1. La actividad del usuario en Springfield y Shelbyville depende del día de la semana aunque las ciudades varían de diferentes formas. \n",
        "\n",
        "La primera hipótesis ha sido aceptada completamente.\n",
        "\n",
        "2. Las preferencias musicales no varían significativamente en el transcurso de la semana en Springfield y Shelbyville. Podemos observar pequeñas diferencias en el orden los lunes, pero:\n",
        "* En Springfield y Shelbyville la gente lo que más escucha es la música pop.\n",
        "\n",
        "Así que no podemos aceptar esta hipótesis. También debemos tener en cuenta que el resultado podría haber sido diferente si no fuera por los valores ausentes.\n",
        "\n",
        "3. Resulta que las preferencias musicales de los usuarios de Springfield y Shelbyville son bastante parecidas.\n",
        "\n",
        "La tercera hipótesis es rechazada. Si hay alguna diferencia en las preferencias no se puede observar en los datos."
      ]
    }
  ],
  "metadata": {
    "colab": {
      "collapsed_sections": [
        "E0vqbgi9ay0H",
        "VUC88oWjTJw2",
        "atZAxtq4_Zcu"
      ],
      "provenance": []
    },
    "kernelspec": {
      "display_name": "Python 3 (ipykernel)",
      "language": "python",
      "name": "python3"
    },
    "language_info": {
      "codemirror_mode": {
        "name": "ipython",
        "version": 3
      },
      "file_extension": ".py",
      "mimetype": "text/x-python",
      "name": "python",
      "nbconvert_exporter": "python",
      "pygments_lexer": "ipython3",
      "version": "3.9.5"
    },
    "toc": {
      "base_numbering": 1,
      "nav_menu": {},
      "number_sections": true,
      "sideBar": true,
      "skip_h1_title": true,
      "title_cell": "Table of Contents",
      "title_sidebar": "Contents",
      "toc_cell": false,
      "toc_position": {},
      "toc_section_display": true,
      "toc_window_display": false
    }
  },
  "nbformat": 4,
  "nbformat_minor": 0
}